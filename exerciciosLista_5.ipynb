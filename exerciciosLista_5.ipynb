{
  "nbformat": 4,
  "nbformat_minor": 0,
  "metadata": {
    "colab": {
      "name": "exerciciosLista-5.ipynb",
      "provenance": [],
      "collapsed_sections": [],
      "authorship_tag": "ABX9TyODtIsQucP3+2W+Mu7IEIgW",
      "include_colab_link": true
    },
    "kernelspec": {
      "name": "python3",
      "display_name": "Python 3"
    }
  },
  "cells": [
    {
      "cell_type": "markdown",
      "metadata": {
        "id": "view-in-github",
        "colab_type": "text"
      },
      "source": [
        "<a href=\"https://colab.research.google.com/github/Mooooooov/Mooooooov/blob/master/exerciciosLista_5.ipynb\" target=\"_parent\"><img src=\"https://colab.research.google.com/assets/colab-badge.svg\" alt=\"Open In Colab\"/></a>"
      ]
    },
    {
      "cell_type": "code",
      "metadata": {
        "id": "TuJAiEZznQK_",
        "colab": {
          "base_uri": "https://localhost:8080/"
        },
        "outputId": "add37b2a-e997-4989-fd67-6fc90bea56b0"
      },
      "source": [
        "# EXERCÍCIO 1/2\n",
        "\n",
        "lados = int(input(\"Qual o número de lados do polígono? \")) # É armazenado na variável lados o input que é definido como inteiro perguntando o número de lados.\n",
        "tamanhoLado = int(input(\"Qual a medida do lado? \")) # É armazenado na variável tamanhoLado o input que é definido como inteiro perguntando o tamanho do lado.\n",
        "\n",
        "formula =  lados * tamanhoLado # Crio uma variavel formula que recebe a multiplicação de lados com tamanhoLado.\n",
        "\n",
        "if lados == 3: # Se lados for igual a 3\n",
        "  print(\"TRIÂNGULO\", formula) # Eu quero que escreva TRIÂNGULO e o resultado da multiplicação entre lados e tamanhoLado.\n",
        "elif lados == 4:  # Se lados for igual a 4\n",
        "  print(\"QUADRADO\", formula ) # Eu quero que escreva QUADRADO e o resultado da multiplicação entre lados e tamanhoLado.\n",
        "elif lados == 5: # Se lados for igual a 5\n",
        "  print(\"PENTÁGONO\", formula) # Eu quero que escreva PENTÁGONO e o resultado da multiplicação entre lados e tamanhoLado.\n",
        "elif lados < 3: # Se lados for menor que 3\n",
        "  print(\"NÃO É UM POLÍGONO\") # Eu quero que escreva NÃO É UM POLÍGONO\n",
        "elif lados > 5: # Se lados for maior que 5\n",
        "    print(\"POLÍGONO NÃO INDENTIFICADO.\") # Eu quero que escreva POLÍGOONO NÃO INDENTIFICADO"
      ],
      "execution_count": null,
      "outputs": [
        {
          "output_type": "stream",
          "text": [
            "Qual o número de lados do polígono? 6\n",
            "Qual a medida do lado? 10\n",
            "POLÍGONO NÃO INDENTIFICADO.\n"
          ],
          "name": "stdout"
        }
      ]
    },
    {
      "cell_type": "code",
      "metadata": {
        "colab": {
          "base_uri": "https://localhost:8080/"
        },
        "id": "GgXRXmYTtnAc",
        "outputId": "84122d1a-65bd-4ef3-a705-6cbe3c5005ec"
      },
      "source": [
        "# EXERCÍCIO 3\n",
        "\n",
        "primeiroNumero = int(input(\"Digite o primeiro número: \")) # É armazenado na variável primeiroNumero o input que é definido como inteiro perguntando o primeiro número.\n",
        "segundoNumero = int(input(\"Digite o segundo número: \")) # É armazenado na variável segundoNumero o input que é definido como inteiro perguntando o segundo número.\n",
        "terceiroNumero = int(input(\"Digite o terceiro número\")) # É armazenado na variável terceiroNumero o input que é definido como inteiro perguntando o terceiro de lados.\n",
        "\n",
        "maior = primeiroNumero # É definido maior como o primeiro, como ponto de ínicio.\n",
        "\n",
        "if (segundoNumero > maior): # Se o segundo número for maior que o maior, ou seja, o primeiro número...\n",
        "  maior = segundoNumero # Eu quero que maior seja redefinido para segundoNumero\n",
        "if (terceiroNumero > maior): # Se o segundo número for maior que o maior, ou seja, o segundo número...\n",
        "  maior = terceiroNumero # Eu quero que o mairo seja redefinido para terceiroNumero\n",
        "\n",
        "  print('O maior número é: ', maior) # E no final eu quero que printe o maior número."
      ],
      "execution_count": null,
      "outputs": [
        {
          "output_type": "stream",
          "text": [
            "Digite o primeiro número: 1\n",
            "Digite o segundo número: 2\n",
            "Digite o terceiro número3\n",
            "O maior número é:  3\n"
          ],
          "name": "stdout"
        }
      ]
    },
    {
      "cell_type": "code",
      "metadata": {
        "id": "vZjfBiAKyi4x"
      },
      "source": [
        "# EXERCÍCIO 4\n",
        "\n",
        "ladoX = int(input(\"Digite o primeiro lado:  \")) # É armazenado na variável ladoX o input que é definido como inteiro perguntando a medida do primeiro lado.\n",
        "ladoY = int(input(\"Digite o segundo lado:  \")) # É armazenado na variável ladoY o input que é definido como inteiro perguntando a medida do segundo lado.\n",
        "ladoZ = int(input(\"Digite o terceiro lado:  \")) # É armazenado na variável ladoZ o input que é definido como inteiro perguntando a medida do terceiro lado.\n",
        "\n",
        "if ladoX == ladoY and ladoY == ladoZ: # Se o primeiro lado for igual aoo seunfo lado e o segundo lado for maior que o terceiro lado...\n",
        "  print('Equilátero') # Printa equilátero\n",
        "elif ladoX == ladoY and ladoY or ladoX == ladoZ or ladoY == ladoZ: # Se o primeiro lado for igual o segundo lado e o segundo lado foor igual ao terceiro ou o segundo lado for igual ao terceiro lado...\n",
        "  print('Isosceles') # Printa Isoceles\n",
        "elif ladoX != ladoY and ladoY != ladoZ and ladoX != ladoZ: # Se o primeiro lado for diferente do segundo lado e o segundo lado for diferente ao terceiro lado e o primeiro lado for diferente do terceiro.\n",
        "    print('Escaleno')  # Printa Escaleno."
      ],
      "execution_count": null,
      "outputs": []
    },
    {
      "cell_type": "code",
      "metadata": {
        "id": "lof_NZGG2jo2"
      },
      "source": [
        "# EXERCÍCIO 5\n",
        "\n",
        "anguloX = int(input(\"Digite o primeiro angulo:  \")) # É armazenado na variável anguloX o input que é definido como inteiro perguntando a medida do primeiro angulo.\n",
        "anguloY = int(input(\"Digite o segundo angulo:  \")) # É armazenado na variável anguloY o input que é definido como inteiro perguntando a medida do segundo angulo.\n",
        "anguloZ = int(input(\"Digite o terceiro angulo:  \")) # É armazenado na variável anguloZ o input que é definido como inteiro perguntando a medida do terceiro angulo.\n",
        "\n",
        "if anguloX == 90 or anguloY == 90 or anguloZ == 90: # Se qualquer algulo tiver um dos angulos de 90\n",
        "  print('Retângulo') # Printa Retângulo\n",
        "elif anguloX > 90 or anguloY > 90 or anguloZ > 90: # Se qualquer angulo tiver um angulo maior que 90\n",
        "  print('Obtusângulo')  # Printa Obtusângulo\n",
        "elif angulox < 90 and anguloY < 90 and anguloZ < 90: # Se todos os angulos forem menores que 90.\n",
        "  print('Acutângulo') # Printa Acutângulo"
      ],
      "execution_count": null,
      "outputs": []
    },
    {
      "cell_type": "code",
      "metadata": {
        "id": "FaF32FWrB3q0"
      },
      "source": [
        "# EXERCÍCIO 6\n",
        "\n",
        "numero = int(input(\"Digite um número: \")) # # É armazenado na variável numero o input que é definido como inteiro colocando algum número.\n",
        "\n",
        "for i in range(numero):\n",
        "  print(i)"
      ],
      "execution_count": null,
      "outputs": []
    },
    {
      "cell_type": "code",
      "metadata": {
        "id": "QixE4x3LDKK2"
      },
      "source": [
        "# EXERCÍCIO 7\n",
        "\n",
        "numero = int(input(\"Digite um número: \")) # É armazenado na variável numero o input que é definido como inteiro colocando algum número.\n",
        "\n",
        "while (numero < 1 or numero > 4): # Enquanto o numero for menor que 1 ou maior que 4 eu quero que escreva...\n",
        "  print('Entrada inválida, tente novamente') # isso.\n",
        "  break # Dá um break para que o programa não fique em loop.\n",
        "else:\n",
        "    print(\"O numero digitado é:\", numero)"
      ],
      "execution_count": null,
      "outputs": []
    },
    {
      "cell_type": "code",
      "metadata": {
        "id": "_-58uneCESu0"
      },
      "source": [
        "# EXERCÍCIO 8\n",
        "\n",
        "\n",
        "while (numero != 0): # Enquanto o numero for diferente de 0, faça isso:\n",
        "  numero = int(input(\"Digite um número: \")) # É armazenado na variável numero o input que é definido como inteiro colocando algum número.\n",
        "if numero > maior: # A mesma dinâmica do exercício 3.\n",
        "  maior = numero\n",
        "else:\n",
        "  print('O maior número é: ', maior)\n"
      ],
      "execution_count": null,
      "outputs": []
    }
  ]
}